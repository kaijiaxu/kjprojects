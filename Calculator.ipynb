{
  "nbformat": 4,
  "nbformat_minor": 0,
  "metadata": {
    "colab": {
      "name": "Calculator.ipynb",
      "provenance": [],
      "authorship_tag": "ABX9TyNkAhVVfcxaJHXPsbCawzCP",
      "include_colab_link": true
    },
    "kernelspec": {
      "name": "python3",
      "display_name": "Python 3"
    }
  },
  "cells": [
    {
      "cell_type": "markdown",
      "metadata": {
        "id": "view-in-github",
        "colab_type": "text"
      },
      "source": [
        "<a href=\"https://colab.research.google.com/github/kaijiaxu/kjprojects/blob/master/Calculator.ipynb\" target=\"_parent\"><img src=\"https://colab.research.google.com/assets/colab-badge.svg\" alt=\"Open In Colab\"/></a>"
      ]
    },
    {
      "cell_type": "code",
      "metadata": {
        "colab": {
          "base_uri": "https://localhost:8080/"
        },
        "id": "lQuVCktg0CQp",
        "outputId": "f1dea0f8-026d-4f47-aac4-a46020e75871"
      },
      "source": [
        "def addition ():\r\n",
        "    n = float(input(\"Enter the number: \"))\r\n",
        "    t = 0 \r\n",
        "    ans = 0\r\n",
        "    while n != 0:\r\n",
        "        ans = ans + n\r\n",
        "        t+=1\r\n",
        "        n = float(input(\"Enter another number (Press 0 to calculate): \"))\r\n",
        "    return [ans,t]\r\n",
        "def subtraction ():\r\n",
        "    n = float(input(\"Enter the number: \"))\r\n",
        "    t = 0 \r\n",
        "    ans = 0\r\n",
        "    while n != 0:\r\n",
        "        ans = ans - n\r\n",
        "        t+=1\r\n",
        "        n = float(input(\"Enter another number (Press 0 to calculate): \"))\r\n",
        "    return [ans,t]\r\n",
        "def multiplication ():\r\n",
        "    n = float(input(\"Enter the number: \"))\r\n",
        "    t = 0 \r\n",
        "    ans = 1\r\n",
        "    while n != 0:\r\n",
        "        ans = ans * n\r\n",
        "        t+=1\r\n",
        "        n = float(input(\"Enter another number (Press 0 to calculate): \"))\r\n",
        "    return [ans,t]\r\n",
        "def division():\r\n",
        "    n = float(input(\"Enter the number: \"))\r\n",
        "    t = 0 \r\n",
        "    ans = 1\r\n",
        "    while n != 0:\r\n",
        "        ans = ans / n\r\n",
        "        t+=1\r\n",
        "        n = float(input(\"Enter another number (Press 0 to calculate): \"))\r\n",
        "    return [ans,t]\r\n",
        "def average():\r\n",
        "    an = []\r\n",
        "    an = addition()\r\n",
        "    t = an[1]\r\n",
        "    a = an[0]\r\n",
        "    ans = a / t\r\n",
        "    return [ans,t]\r\n",
        "\r\n",
        "while True:\r\n",
        "    list = []\r\n",
        "    print(\" Simple Calculator in python\")\r\n",
        "    print(\" Enter '+' for addition\")\r\n",
        "    print(\" Enter '-' for substraction\")\r\n",
        "    print(\" Enter '*' for multiplication\")\r\n",
        "    print(\" Enter '/' for division\")\r\n",
        "    print(\" Enter 'ave' for average\")\r\n",
        "    print(\" Enter 'q' for quit\")\r\n",
        "    c = input(\" \")\r\n",
        "    if c != 'q':\r\n",
        "        if c == '+':\r\n",
        "            list = addition()\r\n",
        "            print(\"Addition\")\r\n",
        "            print(\"Ans = \", list[0], \" total inputs \",list[1])\r\n",
        "        elif c == '-':\r\n",
        "            list = subtraction()\r\n",
        "            print(\"Subtraction\")\r\n",
        "            print(\"Ans = \", list[0], \" total inputs \",list[1])\r\n",
        "        elif c == '*':\r\n",
        "            list = multiplication()\r\n",
        "            print(\"Multiplication\")\r\n",
        "            print(\"Ans = \", list[0], \" total inputs \",list[1])\r\n",
        "        elif c == '/':\r\n",
        "            list = division()\r\n",
        "            print(\"Division\")\r\n",
        "            print(\"Ans = \", list[0], \" total inputs \",list[1])\r\n",
        "        elif c == 'ave':\r\n",
        "            list = average()\r\n",
        "            print(\"Average\")\r\n",
        "            print(\"Ans = \", list[0], \" total inputs \",list[1])\r\n",
        "        else:\r\n",
        "            print (\"Sorry, invalid character\")\r\n",
        "    else:\r\n",
        "        break"
      ],
      "execution_count": 12,
      "outputs": [
        {
          "output_type": "stream",
          "text": [
            " Simple Calculator in python\n",
            " Enter '+' for addition\n",
            " Enter '-' for substraction\n",
            " Enter '*' for multiplication\n",
            " Enter '/' for division\n",
            " Enter 'ave' for average\n",
            " Enter 'q' for quit\n",
            " /\n",
            "Enter the number: 53\n",
            "Enter another number (Press 0 to calculate): 9\n",
            "Enter another number (Press 0 to calculate): 0\n",
            "Division\n",
            "Ans =  0.0020964360587002098  total inputs  2\n",
            " Simple Calculator in python\n",
            " Enter '+' for addition\n",
            " Enter '-' for substraction\n",
            " Enter '*' for multiplication\n",
            " Enter '/' for division\n",
            " Enter 'ave' for average\n",
            " Enter 'q' for quit\n",
            " q\n"
          ],
          "name": "stdout"
        }
      ]
    }
  ]
}