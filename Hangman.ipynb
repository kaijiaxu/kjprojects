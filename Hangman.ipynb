{
  "nbformat": 4,
  "nbformat_minor": 0,
  "metadata": {
    "colab": {
      "name": "Hangman.ipynb",
      "provenance": [],
      "authorship_tag": "ABX9TyMVCCHjLfSI+SZmaT6ooe/6"
    },
    "kernelspec": {
      "name": "python3",
      "display_name": "Python 3"
    }
  },
  "cells": [
    {
      "cell_type": "code",
      "metadata": {
        "id": "C_dz8dzNyMrY",
        "colab_type": "code",
        "colab": {
          "base_uri": "https://localhost:8080/",
          "height": 987
        },
        "outputId": "f986a4c7-379f-433f-f80e-88b729e606d1"
      },
      "source": [
        "i=0\n",
        "while True:\n",
        "  print(\"Welcome to Hangman! Guess the word in 10 rounds!\")\n",
        "\n",
        "  print(\"Word: _ _ _ _ _ _ \")\n",
        "\n",
        "  x = ['purple', 'winter', 'orange', 'turtle', 'apples', 'people', 'school', 'commit', 'Africa', 'places']\n",
        "\n",
        "  input_1 = \" _ \"\n",
        "  input_2 = \" _ \"\n",
        "  input_3 = \" _ \"\n",
        "  input_4 = \" _ \"\n",
        "  input_5 = \" _ \"\n",
        "  input_6 = \" _ \"\n",
        "\n",
        "  current_round = 1\n",
        "  while True:\n",
        "\n",
        "    word = x[i]\n",
        "\n",
        "    character = input('Choose a letter\\n')\n",
        "\n",
        "    if character == word[0]:\n",
        "      input_1 = word[0]\n",
        "    if character == word[1]:\n",
        "      input_2 = word[1]\n",
        "    if character == word[2]:\n",
        "      input_3 = word[2]\n",
        "    if character == word[3]:\n",
        "      input_4 = word[3]\n",
        "    if character == word[4]:\n",
        "      input_5 = word[4]\n",
        "    if character == word[5]:\n",
        "      input_6 = word[5]\n",
        "\n",
        "    print(\"Word: \" + input_1 + input_2 + input_3 + input_4 + input_5 + input_6)\n",
        "\n",
        "    current_round += 1\n",
        "\n",
        "    if word == input_1 + input_2 + input_3 + input_4 + input_5 + input_6:\n",
        "      i+=1\n",
        "      print(\"Congratulations! You found the word!\")\n",
        "      break\n",
        "    if current_round > 10:\n",
        "      print(\"You lose :( Try to find the word within 10 tries next time.\")\n",
        "      break\n"
      ],
      "execution_count": 0,
      "outputs": [
        {
          "output_type": "stream",
          "text": [
            "Welcome to Hangman! Guess the word in 10 rounds!\n",
            "Word: _ _ _ _ _ _ \n",
            "Choose a letter\n",
            "p\n",
            "Word: p _  _ p _  _ \n",
            "Choose a letter\n",
            "u\n",
            "Word: pu _ p _  _ \n",
            "Choose a letter\n",
            "r\n",
            "Word: purp _  _ \n",
            "Choose a letter\n",
            "l\n",
            "Word: purpl _ \n",
            "Choose a letter\n",
            "e\n",
            "Word: purple\n",
            "Congratulations! You found the word!\n",
            "Welcome to Hangman! Guess the word in 10 rounds!\n",
            "Word: _ _ _ _ _ _ \n",
            "Choose a letter\n",
            "w\n",
            "Word: w _  _  _  _  _ \n",
            "Choose a letter\n",
            "i\n",
            "Word: wi _  _  _  _ \n",
            "Choose a letter\n",
            "n\n",
            "Word: win _  _  _ \n",
            "Choose a letter\n",
            "e\n",
            "Word: win _ e _ \n",
            "Choose a letter\n",
            "d\n",
            "Word: win _ e _ \n",
            "Choose a letter\n",
            "f\n",
            "Word: win _ e _ \n",
            "Choose a letter\n",
            "g\n",
            "Word: win _ e _ \n",
            "Choose a letter\n",
            "h\n",
            "Word: win _ e _ \n",
            "Choose a letter\n",
            "j\n",
            "Word: win _ e _ \n",
            "Choose a letter\n",
            "k\n",
            "Word: win _ e _ \n",
            "You lose :( Try to find the word within 10 tries next time.\n",
            "Welcome to Hangman! Guess the word in 10 rounds!\n",
            "Word: _ _ _ _ _ _ \n"
          ],
          "name": "stdout"
        }
      ]
    },
    {
      "cell_type": "code",
      "metadata": {
        "id": "Xa-Irtqhyo2M",
        "colab_type": "code",
        "colab": {}
      },
      "source": [
        ""
      ],
      "execution_count": 0,
      "outputs": []
    }
  ]
}